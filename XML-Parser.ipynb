{
 "cells": [
  {
   "cell_type": "code",
   "execution_count": 1,
   "metadata": {},
   "outputs": [],
   "source": [
    "# Code tested on python 3.6.5\n",
    "#library for opening URL's\n",
    "import urllib.request\n",
    "#library for numerical tables and time series\n",
    "import json\n",
    "# library Pandas provides\n",
    "import pandas as pd\n",
    "#for tabular representation of json\n",
    "from pandas import DataFrame\n",
    "#a nice utility function json_normalize for flattening JSON objects\n",
    "from pandas.io.json import json_normalize\n"
   ]
  },
  {
   "cell_type": "code",
   "execution_count": 2,
   "metadata": {},
   "outputs": [],
   "source": [
    "# variable for request of opening the URL\n",
    "testfile = urllib.request.URLopener()\n",
    "#variabe storing the URL\n",
    "file_name = 'https://api.tdameritrade.com/v1/marketdata/RBGBBIS:FRED/pricehistory?apikey=CATOKINCAID&periodType=year&period=1&frequencyType=monthly&frequency=1&endDate=1553810400000&startDate=1546380000000&needExtendedHoursData=false'\n"
   ]
  },
  {
   "cell_type": "code",
   "execution_count": 3,
   "metadata": {},
   "outputs": [
    {
     "data": {
      "text/plain": [
       "'{\"candles\": [], \"symbol\": \"RBGBBIS:FRED\", \"empty\": true}'"
      ]
     },
     "execution_count": 3,
     "metadata": {},
     "output_type": "execute_result"
    }
   ],
   "source": [
    "#retreiving the XML data and storing in file in JSON format\n",
    "testfile.retrieve(file_name, \"file.json\")\n",
    "#opening the JSON file and retrieving its data\n",
    "data = json.load(open('file.json'))\n",
    "#converting json object to string\n",
    "json.dumps(data)"
   ]
  },
  {
   "cell_type": "code",
   "execution_count": 4,
   "metadata": {},
   "outputs": [
    {
     "name": "stdout",
     "output_type": "stream",
     "text": [
      "\n",
      "********************************\n",
      "  candles  empty        symbol\n",
      "0      []   True  RBGBBIS:FRED\n",
      "********************************\n",
      "\n"
     ]
    }
   ],
   "source": [
    "\n",
    "#arrange data of JSON in tabular format and returns a dataframe\n",
    "#read json_normalize function description it returns dataframe format of JSON\n",
    "print(\"\\n********************************\")\n",
    "print(json_normalize(data))\n",
    "print(\"********************************\\n\")\n",
    "#the following is a dataframe with 4 columns"
   ]
  },
  {
   "cell_type": "code",
   "execution_count": 13,
   "metadata": {},
   "outputs": [
    {
     "name": "stdout",
     "output_type": "stream",
     "text": [
      "DataFrame is empty\n"
     ]
    }
   ],
   "source": [
    "#converting JSON to dataframe \n",
    "df = DataFrame(data)\n",
    "#check whether dataframe is empty or not\n",
    "if df.empty == True:\n",
    "    print('DataFrame is empty')\n",
    "else:\n",
    "    print('DataFrame is not empty')"
   ]
  },
  {
   "cell_type": "code",
   "execution_count": 14,
   "metadata": {},
   "outputs": [
    {
     "name": "stdout",
     "output_type": "stream",
     "text": [
      "Empty DataFrame\n",
      "Columns: [candles, symbol, empty]\n",
      "Index: []\n"
     ]
    }
   ],
   "source": [
    "#print dataframe\n",
    "print (df)"
   ]
  },
  {
   "cell_type": "code",
   "execution_count": 15,
   "metadata": {},
   "outputs": [
    {
     "data": {
      "text/html": [
       "<div>\n",
       "<style scoped>\n",
       "    .dataframe tbody tr th:only-of-type {\n",
       "        vertical-align: middle;\n",
       "    }\n",
       "\n",
       "    .dataframe tbody tr th {\n",
       "        vertical-align: top;\n",
       "    }\n",
       "\n",
       "    .dataframe thead th {\n",
       "        text-align: right;\n",
       "    }\n",
       "</style>\n",
       "<table border=\"1\" class=\"dataframe\">\n",
       "  <thead>\n",
       "    <tr style=\"text-align: right;\">\n",
       "      <th></th>\n",
       "      <th>candles</th>\n",
       "      <th>symbol</th>\n",
       "      <th>empty</th>\n",
       "    </tr>\n",
       "  </thead>\n",
       "  <tbody>\n",
       "  </tbody>\n",
       "</table>\n",
       "</div>"
      ],
      "text/plain": [
       "Empty DataFrame\n",
       "Columns: [candles, symbol, empty]\n",
       "Index: []"
      ]
     },
     "execution_count": 15,
     "metadata": {},
     "output_type": "execute_result"
    }
   ],
   "source": [
    "#printing the dataframe\n",
    "df\n"
   ]
  },
  {
   "cell_type": "code",
   "execution_count": null,
   "metadata": {},
   "outputs": [],
   "source": []
  },
  {
   "cell_type": "code",
   "execution_count": null,
   "metadata": {},
   "outputs": [],
   "source": []
  }
 ],
 "metadata": {
  "kernelspec": {
   "display_name": "Python 3",
   "language": "python",
   "name": "python3"
  },
  "language_info": {
   "codemirror_mode": {
    "name": "ipython",
    "version": 3
   },
   "file_extension": ".py",
   "mimetype": "text/x-python",
   "name": "python",
   "nbconvert_exporter": "python",
   "pygments_lexer": "ipython3",
   "version": "3.6.7"
  }
 },
 "nbformat": 4,
 "nbformat_minor": 2
}
